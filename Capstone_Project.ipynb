{
 "cells": [
  {
   "cell_type": "markdown",
   "id": "398d1433-7876-48f7-a924-b9dd8c83a090",
   "metadata": {},
   "source": [
    "# Capstone Project Notebook\n",
    "\n",
    "This notebook will primarily be used for the **Capstone Project**. The goal of the capstone is to apply the knowledge and skills acquired throughout the program to a comprehensive project. Here, we will document the problem-solving process, including data collection, analysis, and model development, while showcasing the final solutions.\n",
    "\n",
    "Throughout this notebook, markdown sections will be used to explain steps, highlight key takeaways, and structure the overall flow of the project.\n"
   ]
  },
  {
   "cell_type": "code",
   "execution_count": 2,
   "id": "b92eacb7-a074-45b3-a044-a9383082d585",
   "metadata": {
    "tags": []
   },
   "outputs": [
    {
     "name": "stdout",
     "output_type": "stream",
     "text": [
      "Hello Capstone Project Course!\n"
     ]
    }
   ],
   "source": [
    "import pandas as pd\n",
    "import numpy as np\n",
    "\n",
    "print('Hello Capstone Project Course!')"
   ]
  },
  {
   "cell_type": "code",
   "execution_count": null,
   "id": "e1447315-9e8b-4531-8544-2bd8a690dbb0",
   "metadata": {},
   "outputs": [],
   "source": []
  }
 ],
 "metadata": {
  "kernelspec": {
   "display_name": "Python 3 (ipykernel)",
   "language": "python",
   "name": "python3"
  },
  "language_info": {
   "codemirror_mode": {
    "name": "ipython",
    "version": 3
   },
   "file_extension": ".py",
   "mimetype": "text/x-python",
   "name": "python",
   "nbconvert_exporter": "python",
   "pygments_lexer": "ipython3",
   "version": "3.11.5"
  }
 },
 "nbformat": 4,
 "nbformat_minor": 5
}
